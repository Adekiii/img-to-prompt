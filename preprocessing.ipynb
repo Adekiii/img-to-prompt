{
 "cells": [
  {
   "attachments": {},
   "cell_type": "markdown",
   "metadata": {},
   "source": [
    "# Preprocessing\n",
    "\n",
    "In this notebook we perform the necessary preprocessing steps on the images and the text.\n",
    "\n",
    "First, let's import the necessary modules:"
   ]
  },
  {
   "cell_type": "code",
   "execution_count": 1,
   "metadata": {},
   "outputs": [],
   "source": [
    "import pandas as pd\n",
    "import numpy as np\n",
    "from nltk.tokenize import word_tokenize\n",
    "from PIL import Image"
   ]
  },
  {
   "attachments": {},
   "cell_type": "markdown",
   "metadata": {},
   "source": [
    "Pandas version should be 1.5.3 (latest), as that is what the pickled data file was made on"
   ]
  },
  {
   "cell_type": "code",
   "execution_count": 2,
   "metadata": {},
   "outputs": [
    {
     "data": {
      "text/plain": [
       "'1.5.3'"
      ]
     },
     "execution_count": 2,
     "metadata": {},
     "output_type": "execute_result"
    }
   ],
   "source": [
    "pd.__version__"
   ]
  },
  {
   "attachments": {},
   "cell_type": "markdown",
   "metadata": {},
   "source": [
    "Run the following cell to install the necessary library for nltk"
   ]
  },
  {
   "cell_type": "code",
   "execution_count": null,
   "metadata": {},
   "outputs": [],
   "source": [
    "import nltk\n",
    "nltk.download(\"punkt\")"
   ]
  },
  {
   "attachments": {},
   "cell_type": "markdown",
   "metadata": {},
   "source": [
    "Read the data file with pandas:"
   ]
  },
  {
   "cell_type": "code",
   "execution_count": 2,
   "metadata": {},
   "outputs": [
    {
     "data": {
      "text/html": [
       "<div>\n",
       "<style scoped>\n",
       "    .dataframe tbody tr th:only-of-type {\n",
       "        vertical-align: middle;\n",
       "    }\n",
       "\n",
       "    .dataframe tbody tr th {\n",
       "        vertical-align: top;\n",
       "    }\n",
       "\n",
       "    .dataframe thead th {\n",
       "        text-align: right;\n",
       "    }\n",
       "</style>\n",
       "<table border=\"1\" class=\"dataframe\">\n",
       "  <thead>\n",
       "    <tr style=\"text-align: right;\">\n",
       "      <th></th>\n",
       "      <th>image</th>\n",
       "      <th>prompt</th>\n",
       "    </tr>\n",
       "  </thead>\n",
       "  <tbody>\n",
       "    <tr>\n",
       "      <th>0</th>\n",
       "      <td>&lt;PIL.Image.Image image mode=RGB size=128x128 a...</td>\n",
       "      <td>a renaissance portrait of dwayne johnson, art ...</td>\n",
       "    </tr>\n",
       "    <tr>\n",
       "      <th>1</th>\n",
       "      <td>&lt;PIL.Image.Image image mode=RGB size=128x128 a...</td>\n",
       "      <td>portrait of a dancing eagle woman, beautiful b...</td>\n",
       "    </tr>\n",
       "    <tr>\n",
       "      <th>2</th>\n",
       "      <td>&lt;PIL.Image.Image image mode=RGB size=128x128 a...</td>\n",
       "      <td>epic 3 d, become legend shiji! gpu mecha contr...</td>\n",
       "    </tr>\n",
       "    <tr>\n",
       "      <th>3</th>\n",
       "      <td>&lt;PIL.Image.Image image mode=RGB size=128x128 a...</td>\n",
       "      <td>an airbrush painting of cyber war machine scen...</td>\n",
       "    </tr>\n",
       "    <tr>\n",
       "      <th>4</th>\n",
       "      <td>&lt;PIL.Image.Image image mode=RGB size=128x128 a...</td>\n",
       "      <td>concept art of a silent hill monster. painted ...</td>\n",
       "    </tr>\n",
       "  </tbody>\n",
       "</table>\n",
       "</div>"
      ],
      "text/plain": [
       "                                               image  \\\n",
       "0  <PIL.Image.Image image mode=RGB size=128x128 a...   \n",
       "1  <PIL.Image.Image image mode=RGB size=128x128 a...   \n",
       "2  <PIL.Image.Image image mode=RGB size=128x128 a...   \n",
       "3  <PIL.Image.Image image mode=RGB size=128x128 a...   \n",
       "4  <PIL.Image.Image image mode=RGB size=128x128 a...   \n",
       "\n",
       "                                              prompt  \n",
       "0  a renaissance portrait of dwayne johnson, art ...  \n",
       "1  portrait of a dancing eagle woman, beautiful b...  \n",
       "2  epic 3 d, become legend shiji! gpu mecha contr...  \n",
       "3  an airbrush painting of cyber war machine scen...  \n",
       "4  concept art of a silent hill monster. painted ...  "
      ]
     },
     "execution_count": 2,
     "metadata": {},
     "output_type": "execute_result"
    }
   ],
   "source": [
    "images_df = pd.read_pickle(\"images.pkl\")\n",
    "images_df.head()"
   ]
  },
  {
   "attachments": {},
   "cell_type": "markdown",
   "metadata": {},
   "source": [
    "Every image has been resized to 128x128 prior to exporting the data file. Other columns from the original dataset have also been left out, as we only need the images and their corresponding prompts."
   ]
  },
  {
   "attachments": {},
   "cell_type": "markdown",
   "metadata": {},
   "source": [
    "## Preprocessing images\n",
    "\n",
    "First, we will use NumPy to create an array representation of the images, and add it to a new column (these arrays can be displayed as images again by using the Image.fromarray() function):"
   ]
  },
  {
   "cell_type": "code",
   "execution_count": 3,
   "metadata": {},
   "outputs": [
    {
     "data": {
      "text/html": [
       "<div>\n",
       "<style scoped>\n",
       "    .dataframe tbody tr th:only-of-type {\n",
       "        vertical-align: middle;\n",
       "    }\n",
       "\n",
       "    .dataframe tbody tr th {\n",
       "        vertical-align: top;\n",
       "    }\n",
       "\n",
       "    .dataframe thead th {\n",
       "        text-align: right;\n",
       "    }\n",
       "</style>\n",
       "<table border=\"1\" class=\"dataframe\">\n",
       "  <thead>\n",
       "    <tr style=\"text-align: right;\">\n",
       "      <th></th>\n",
       "      <th>image</th>\n",
       "      <th>prompt</th>\n",
       "      <th>image_array</th>\n",
       "    </tr>\n",
       "  </thead>\n",
       "  <tbody>\n",
       "    <tr>\n",
       "      <th>0</th>\n",
       "      <td>&lt;PIL.Image.Image image mode=RGB size=128x128 a...</td>\n",
       "      <td>a renaissance portrait of dwayne johnson, art ...</td>\n",
       "      <td>[[[13.0, 11.0, 10.0], [22.0, 20.0, 18.0], [23....</td>\n",
       "    </tr>\n",
       "    <tr>\n",
       "      <th>1</th>\n",
       "      <td>&lt;PIL.Image.Image image mode=RGB size=128x128 a...</td>\n",
       "      <td>portrait of a dancing eagle woman, beautiful b...</td>\n",
       "      <td>[[[169.0, 155.0, 133.0], [169.0, 155.0, 131.0]...</td>\n",
       "    </tr>\n",
       "    <tr>\n",
       "      <th>2</th>\n",
       "      <td>&lt;PIL.Image.Image image mode=RGB size=128x128 a...</td>\n",
       "      <td>epic 3 d, become legend shiji! gpu mecha contr...</td>\n",
       "      <td>[[[59.0, 75.0, 98.0], [59.0, 76.0, 99.0], [59....</td>\n",
       "    </tr>\n",
       "    <tr>\n",
       "      <th>3</th>\n",
       "      <td>&lt;PIL.Image.Image image mode=RGB size=128x128 a...</td>\n",
       "      <td>an airbrush painting of cyber war machine scen...</td>\n",
       "      <td>[[[115.0, 156.0, 184.0], [120.0, 159.0, 183.0]...</td>\n",
       "    </tr>\n",
       "    <tr>\n",
       "      <th>4</th>\n",
       "      <td>&lt;PIL.Image.Image image mode=RGB size=128x128 a...</td>\n",
       "      <td>concept art of a silent hill monster. painted ...</td>\n",
       "      <td>[[[101.0, 105.0, 89.0], [100.0, 105.0, 90.0], ...</td>\n",
       "    </tr>\n",
       "  </tbody>\n",
       "</table>\n",
       "</div>"
      ],
      "text/plain": [
       "                                               image  \\\n",
       "0  <PIL.Image.Image image mode=RGB size=128x128 a...   \n",
       "1  <PIL.Image.Image image mode=RGB size=128x128 a...   \n",
       "2  <PIL.Image.Image image mode=RGB size=128x128 a...   \n",
       "3  <PIL.Image.Image image mode=RGB size=128x128 a...   \n",
       "4  <PIL.Image.Image image mode=RGB size=128x128 a...   \n",
       "\n",
       "                                              prompt  \\\n",
       "0  a renaissance portrait of dwayne johnson, art ...   \n",
       "1  portrait of a dancing eagle woman, beautiful b...   \n",
       "2  epic 3 d, become legend shiji! gpu mecha contr...   \n",
       "3  an airbrush painting of cyber war machine scen...   \n",
       "4  concept art of a silent hill monster. painted ...   \n",
       "\n",
       "                                         image_array  \n",
       "0  [[[13.0, 11.0, 10.0], [22.0, 20.0, 18.0], [23....  \n",
       "1  [[[169.0, 155.0, 133.0], [169.0, 155.0, 131.0]...  \n",
       "2  [[[59.0, 75.0, 98.0], [59.0, 76.0, 99.0], [59....  \n",
       "3  [[[115.0, 156.0, 184.0], [120.0, 159.0, 183.0]...  \n",
       "4  [[[101.0, 105.0, 89.0], [100.0, 105.0, 90.0], ...  "
      ]
     },
     "execution_count": 3,
     "metadata": {},
     "output_type": "execute_result"
    }
   ],
   "source": [
    "images_df['image_array'] = images_df['image'].apply(lambda img: np.asarray(img).astype('float32'))\n",
    "images_df.head()"
   ]
  },
  {
   "attachments": {},
   "cell_type": "markdown",
   "metadata": {},
   "source": [
    "Next, we define a function to normalize every value in the array so they are scaled from 0 to 1 instead of 0 to 255."
   ]
  },
  {
   "cell_type": "code",
   "execution_count": 4,
   "metadata": {},
   "outputs": [
    {
     "data": {
      "text/html": [
       "<div>\n",
       "<style scoped>\n",
       "    .dataframe tbody tr th:only-of-type {\n",
       "        vertical-align: middle;\n",
       "    }\n",
       "\n",
       "    .dataframe tbody tr th {\n",
       "        vertical-align: top;\n",
       "    }\n",
       "\n",
       "    .dataframe thead th {\n",
       "        text-align: right;\n",
       "    }\n",
       "</style>\n",
       "<table border=\"1\" class=\"dataframe\">\n",
       "  <thead>\n",
       "    <tr style=\"text-align: right;\">\n",
       "      <th></th>\n",
       "      <th>image</th>\n",
       "      <th>prompt</th>\n",
       "      <th>image_array</th>\n",
       "      <th>normalized_array</th>\n",
       "    </tr>\n",
       "  </thead>\n",
       "  <tbody>\n",
       "    <tr>\n",
       "      <th>0</th>\n",
       "      <td>&lt;PIL.Image.Image image mode=RGB size=128x128 a...</td>\n",
       "      <td>a renaissance portrait of dwayne johnson, art ...</td>\n",
       "      <td>[[[13.0, 11.0, 10.0], [22.0, 20.0, 18.0], [23....</td>\n",
       "      <td>[[[0.050980393, 0.044, 0.041493777], [0.086274...</td>\n",
       "    </tr>\n",
       "    <tr>\n",
       "      <th>1</th>\n",
       "      <td>&lt;PIL.Image.Image image mode=RGB size=128x128 a...</td>\n",
       "      <td>portrait of a dancing eagle woman, beautiful b...</td>\n",
       "      <td>[[[169.0, 155.0, 133.0], [169.0, 155.0, 131.0]...</td>\n",
       "      <td>[[[0.6875, 0.7323232, 0.71511626], [0.6875, 0....</td>\n",
       "    </tr>\n",
       "    <tr>\n",
       "      <th>2</th>\n",
       "      <td>&lt;PIL.Image.Image image mode=RGB size=128x128 a...</td>\n",
       "      <td>epic 3 d, become legend shiji! gpu mecha contr...</td>\n",
       "      <td>[[[59.0, 75.0, 98.0], [59.0, 76.0, 99.0], [59....</td>\n",
       "      <td>[[[0.23137255, 0.29411766, 0.374502], [0.23137...</td>\n",
       "    </tr>\n",
       "    <tr>\n",
       "      <th>3</th>\n",
       "      <td>&lt;PIL.Image.Image image mode=RGB size=128x128 a...</td>\n",
       "      <td>an airbrush painting of cyber war machine scen...</td>\n",
       "      <td>[[[115.0, 156.0, 184.0], [120.0, 159.0, 183.0]...</td>\n",
       "      <td>[[[0.44541484, 0.6502242, 0.84236455], [0.4672...</td>\n",
       "    </tr>\n",
       "    <tr>\n",
       "      <th>4</th>\n",
       "      <td>&lt;PIL.Image.Image image mode=RGB size=128x128 a...</td>\n",
       "      <td>concept art of a silent hill monster. painted ...</td>\n",
       "      <td>[[[101.0, 105.0, 89.0], [100.0, 105.0, 90.0], ...</td>\n",
       "      <td>[[[0.36082473, 0.33333334, 0.2804878], [0.3556...</td>\n",
       "    </tr>\n",
       "  </tbody>\n",
       "</table>\n",
       "</div>"
      ],
      "text/plain": [
       "                                               image  \\\n",
       "0  <PIL.Image.Image image mode=RGB size=128x128 a...   \n",
       "1  <PIL.Image.Image image mode=RGB size=128x128 a...   \n",
       "2  <PIL.Image.Image image mode=RGB size=128x128 a...   \n",
       "3  <PIL.Image.Image image mode=RGB size=128x128 a...   \n",
       "4  <PIL.Image.Image image mode=RGB size=128x128 a...   \n",
       "\n",
       "                                              prompt  \\\n",
       "0  a renaissance portrait of dwayne johnson, art ...   \n",
       "1  portrait of a dancing eagle woman, beautiful b...   \n",
       "2  epic 3 d, become legend shiji! gpu mecha contr...   \n",
       "3  an airbrush painting of cyber war machine scen...   \n",
       "4  concept art of a silent hill monster. painted ...   \n",
       "\n",
       "                                         image_array  \\\n",
       "0  [[[13.0, 11.0, 10.0], [22.0, 20.0, 18.0], [23....   \n",
       "1  [[[169.0, 155.0, 133.0], [169.0, 155.0, 131.0]...   \n",
       "2  [[[59.0, 75.0, 98.0], [59.0, 76.0, 99.0], [59....   \n",
       "3  [[[115.0, 156.0, 184.0], [120.0, 159.0, 183.0]...   \n",
       "4  [[[101.0, 105.0, 89.0], [100.0, 105.0, 90.0], ...   \n",
       "\n",
       "                                    normalized_array  \n",
       "0  [[[0.050980393, 0.044, 0.041493777], [0.086274...  \n",
       "1  [[[0.6875, 0.7323232, 0.71511626], [0.6875, 0....  \n",
       "2  [[[0.23137255, 0.29411766, 0.374502], [0.23137...  \n",
       "3  [[[0.44541484, 0.6502242, 0.84236455], [0.4672...  \n",
       "4  [[[0.36082473, 0.33333334, 0.2804878], [0.3556...  "
      ]
     },
     "execution_count": 4,
     "metadata": {},
     "output_type": "execute_result"
    }
   ],
   "source": [
    "def normalize(array):\n",
    "    \"\"\"\n",
    "    This function takes in an image array with shape (x, y, 3),\n",
    "    these values represent an image height, width, and RGB channels.\n",
    "    Calculates and returns the normalized array.\n",
    "    \"\"\"\n",
    "    min_r, min_g, min_b = np.min(array, axis=(0, 1))\n",
    "    max_r, max_g, max_b = np.max(array, axis=(0, 1))\n",
    "\n",
    "    normalized_r = (array[:, :, 0] - min_r) / (max_r - min_r)\n",
    "    normalized_g = (array[:, :, 1] - min_g) / (max_g - min_g)\n",
    "    normalized_b = (array[:, :, 2] - min_b) / (max_b - min_b)\n",
    "\n",
    "    return np.stack([normalized_r, normalized_g, normalized_b], axis=-1)\n",
    "\n",
    "\n",
    "images_df['normalized_array'] = images_df['image_array'].apply(normalize)\n",
    "images_df.head()"
   ]
  },
  {
   "attachments": {},
   "cell_type": "markdown",
   "metadata": {},
   "source": [
    "# Text preprocessing\n",
    "\n",
    "The next step is to preprocess all prompts to ensure that they are formatted in a numerical representation, so the model can train on the values.\n",
    "\n",
    "We remove all punctuation, then apply word_tokenize to every prompt and create a new column 'tokenized_prompt' with the results."
   ]
  },
  {
   "cell_type": "code",
   "execution_count": 5,
   "metadata": {},
   "outputs": [
    {
     "data": {
      "text/html": [
       "<div>\n",
       "<style scoped>\n",
       "    .dataframe tbody tr th:only-of-type {\n",
       "        vertical-align: middle;\n",
       "    }\n",
       "\n",
       "    .dataframe tbody tr th {\n",
       "        vertical-align: top;\n",
       "    }\n",
       "\n",
       "    .dataframe thead th {\n",
       "        text-align: right;\n",
       "    }\n",
       "</style>\n",
       "<table border=\"1\" class=\"dataframe\">\n",
       "  <thead>\n",
       "    <tr style=\"text-align: right;\">\n",
       "      <th></th>\n",
       "      <th>image</th>\n",
       "      <th>prompt</th>\n",
       "      <th>image_array</th>\n",
       "      <th>normalized_array</th>\n",
       "      <th>tokenized_prompt</th>\n",
       "    </tr>\n",
       "  </thead>\n",
       "  <tbody>\n",
       "    <tr>\n",
       "      <th>0</th>\n",
       "      <td>&lt;PIL.Image.Image image mode=RGB size=128x128 a...</td>\n",
       "      <td>a renaissance portrait of dwayne johnson  art ...</td>\n",
       "      <td>[[[13.0, 11.0, 10.0], [22.0, 20.0, 18.0], [23....</td>\n",
       "      <td>[[[0.050980393, 0.044, 0.041493777], [0.086274...</td>\n",
       "      <td>[a, renaissance, portrait, of, dwayne, johnson...</td>\n",
       "    </tr>\n",
       "    <tr>\n",
       "      <th>1</th>\n",
       "      <td>&lt;PIL.Image.Image image mode=RGB size=128x128 a...</td>\n",
       "      <td>portrait of a dancing eagle woman  beautiful b...</td>\n",
       "      <td>[[[169.0, 155.0, 133.0], [169.0, 155.0, 131.0]...</td>\n",
       "      <td>[[[0.6875, 0.7323232, 0.71511626], [0.6875, 0....</td>\n",
       "      <td>[portrait, of, a, dancing, eagle, woman, beaut...</td>\n",
       "    </tr>\n",
       "    <tr>\n",
       "      <th>2</th>\n",
       "      <td>&lt;PIL.Image.Image image mode=RGB size=128x128 a...</td>\n",
       "      <td>epic 3 d  become legend shiji  gpu mecha contr...</td>\n",
       "      <td>[[[59.0, 75.0, 98.0], [59.0, 76.0, 99.0], [59....</td>\n",
       "      <td>[[[0.23137255, 0.29411766, 0.374502], [0.23137...</td>\n",
       "      <td>[epic, 3, d, become, legend, shiji, gpu, mecha...</td>\n",
       "    </tr>\n",
       "    <tr>\n",
       "      <th>3</th>\n",
       "      <td>&lt;PIL.Image.Image image mode=RGB size=128x128 a...</td>\n",
       "      <td>an airbrush painting of cyber war machine scen...</td>\n",
       "      <td>[[[115.0, 156.0, 184.0], [120.0, 159.0, 183.0]...</td>\n",
       "      <td>[[[0.44541484, 0.6502242, 0.84236455], [0.4672...</td>\n",
       "      <td>[an, airbrush, painting, of, cyber, war, machi...</td>\n",
       "    </tr>\n",
       "    <tr>\n",
       "      <th>4</th>\n",
       "      <td>&lt;PIL.Image.Image image mode=RGB size=128x128 a...</td>\n",
       "      <td>concept art of a silent hill monster  painted ...</td>\n",
       "      <td>[[[101.0, 105.0, 89.0], [100.0, 105.0, 90.0], ...</td>\n",
       "      <td>[[[0.36082473, 0.33333334, 0.2804878], [0.3556...</td>\n",
       "      <td>[concept, art, of, a, silent, hill, monster, p...</td>\n",
       "    </tr>\n",
       "  </tbody>\n",
       "</table>\n",
       "</div>"
      ],
      "text/plain": [
       "                                               image  \\\n",
       "0  <PIL.Image.Image image mode=RGB size=128x128 a...   \n",
       "1  <PIL.Image.Image image mode=RGB size=128x128 a...   \n",
       "2  <PIL.Image.Image image mode=RGB size=128x128 a...   \n",
       "3  <PIL.Image.Image image mode=RGB size=128x128 a...   \n",
       "4  <PIL.Image.Image image mode=RGB size=128x128 a...   \n",
       "\n",
       "                                              prompt  \\\n",
       "0  a renaissance portrait of dwayne johnson  art ...   \n",
       "1  portrait of a dancing eagle woman  beautiful b...   \n",
       "2  epic 3 d  become legend shiji  gpu mecha contr...   \n",
       "3  an airbrush painting of cyber war machine scen...   \n",
       "4  concept art of a silent hill monster  painted ...   \n",
       "\n",
       "                                         image_array  \\\n",
       "0  [[[13.0, 11.0, 10.0], [22.0, 20.0, 18.0], [23....   \n",
       "1  [[[169.0, 155.0, 133.0], [169.0, 155.0, 131.0]...   \n",
       "2  [[[59.0, 75.0, 98.0], [59.0, 76.0, 99.0], [59....   \n",
       "3  [[[115.0, 156.0, 184.0], [120.0, 159.0, 183.0]...   \n",
       "4  [[[101.0, 105.0, 89.0], [100.0, 105.0, 90.0], ...   \n",
       "\n",
       "                                    normalized_array  \\\n",
       "0  [[[0.050980393, 0.044, 0.041493777], [0.086274...   \n",
       "1  [[[0.6875, 0.7323232, 0.71511626], [0.6875, 0....   \n",
       "2  [[[0.23137255, 0.29411766, 0.374502], [0.23137...   \n",
       "3  [[[0.44541484, 0.6502242, 0.84236455], [0.4672...   \n",
       "4  [[[0.36082473, 0.33333334, 0.2804878], [0.3556...   \n",
       "\n",
       "                                    tokenized_prompt  \n",
       "0  [a, renaissance, portrait, of, dwayne, johnson...  \n",
       "1  [portrait, of, a, dancing, eagle, woman, beaut...  \n",
       "2  [epic, 3, d, become, legend, shiji, gpu, mecha...  \n",
       "3  [an, airbrush, painting, of, cyber, war, machi...  \n",
       "4  [concept, art, of, a, silent, hill, monster, p...  "
      ]
     },
     "execution_count": 5,
     "metadata": {},
     "output_type": "execute_result"
    }
   ],
   "source": [
    "images_df['prompt'] = images_df['prompt'].str.replace(r'[\\W+]', ' ', regex=True)\n",
    "images_df['tokenized_prompt'] = images_df['prompt'].apply(word_tokenize)\n",
    "images_df.head()"
   ]
  },
  {
   "attachments": {},
   "cell_type": "markdown",
   "metadata": {},
   "source": [
    "## Use ALL 2 million prompts to train a Word2Vec model"
   ]
  },
  {
   "cell_type": "code",
   "execution_count": 12,
   "metadata": {},
   "outputs": [
    {
     "data": {
      "text/plain": [
       "('metadata.parquet', <http.client.HTTPMessage at 0x19a1f2fd6d0>)"
      ]
     },
     "execution_count": 12,
     "metadata": {},
     "output_type": "execute_result"
    }
   ],
   "source": [
    "from urllib.request import urlretrieve\n",
    "\n",
    "table_url = f'https://huggingface.co/datasets/poloclub/diffusiondb/resolve/main/metadata.parquet'\n",
    "urlretrieve(table_url, 'metadata.parquet')"
   ]
  },
  {
   "cell_type": "code",
   "execution_count": 16,
   "metadata": {},
   "outputs": [
    {
     "data": {
      "text/plain": [
       "0          [a, portrait, of, a, female, robot, made, from...\n",
       "1          [a, portrait, of, a, female, robot, made, from...\n",
       "2          [only, memories, remain, trending, on, artstat...\n",
       "3                      [dream, swimming, pool, with, nobody]\n",
       "4              [a, dog, doing, weights, epic, oil, painting]\n",
       "                                 ...                        \n",
       "1999995    [david, bowie, giving, a, piggy, back, ride, t...\n",
       "1999996    [david, bowie, giving, a, piggy, back, ride, t...\n",
       "1999997                                    [funny, computer]\n",
       "1999998               [hilarious, witty, computing, machine]\n",
       "1999999    [hilarious, witty, computing, machine, lichten...\n",
       "Name: prompt, Length: 2000000, dtype: object"
      ]
     },
     "execution_count": 16,
     "metadata": {},
     "output_type": "execute_result"
    }
   ],
   "source": [
    "text_df = pd.read_parquet('metadata.parquet')\n",
    "\n",
    "text_df['prompt'] = text_df['prompt'].str.replace(r'[\\W+]', ' ', regex=True)\n",
    "text_df = text_df['prompt'].apply(word_tokenize)"
   ]
  },
  {
   "cell_type": "code",
   "execution_count": 28,
   "metadata": {},
   "outputs": [],
   "source": [
    "two_m_sentences = text_df.tolist()"
   ]
  },
  {
   "attachments": {},
   "cell_type": "markdown",
   "metadata": {},
   "source": [
    "Next, create a variable that is a list of all tokenized prompts."
   ]
  },
  {
   "cell_type": "code",
   "execution_count": 6,
   "metadata": {},
   "outputs": [],
   "source": [
    "sentences = images_df['tokenized_prompt'].tolist()"
   ]
  },
  {
   "attachments": {},
   "cell_type": "markdown",
   "metadata": {},
   "source": [
    "Now we import Word2Vec and define the model with the sentences variable.\n",
    "Using min_count = 1 ensures that it makes word embeddings of words that appear\n",
    "at least once, so basically every word."
   ]
  },
  {
   "cell_type": "code",
   "execution_count": 29,
   "metadata": {},
   "outputs": [],
   "source": [
    "from gensim.models import Word2Vec\n",
    "\n",
    "model = Word2Vec(sentences, min_count=1)\n",
    "two_m_model = Word2Vec(two_m_sentences, min_count=1)"
   ]
  },
  {
   "attachments": {},
   "cell_type": "markdown",
   "metadata": {},
   "source": [
    "Train it on the sentences."
   ]
  },
  {
   "cell_type": "code",
   "execution_count": 30,
   "metadata": {},
   "outputs": [
    {
     "data": {
      "text/plain": [
       "(715179117, 876959748)"
      ]
     },
     "execution_count": 30,
     "metadata": {},
     "output_type": "execute_result"
    }
   ],
   "source": [
    "model.train(sentences, total_examples=len(sentences), epochs=18)\n",
    "two_m_model.train(two_m_sentences, total_examples=len(two_m_sentences), epochs=18)"
   ]
  },
  {
   "attachments": {},
   "cell_type": "markdown",
   "metadata": {},
   "source": [
    "Save it as a file, so we can use it in other notebooks."
   ]
  },
  {
   "cell_type": "code",
   "execution_count": 10,
   "metadata": {},
   "outputs": [],
   "source": [
    "model.save(\"word2vec.model\")"
   ]
  },
  {
   "cell_type": "code",
   "execution_count": 31,
   "metadata": {},
   "outputs": [],
   "source": [
    "two_m_model.save(\"2m_word2vec.model\")"
   ]
  },
  {
   "attachments": {},
   "cell_type": "markdown",
   "metadata": {},
   "source": [
    "Let's check the embedding that the model made of the first prompt:"
   ]
  },
  {
   "cell_type": "code",
   "execution_count": 11,
   "metadata": {},
   "outputs": [
    {
     "data": {
      "text/plain": [
       "(100,)"
      ]
     },
     "execution_count": 11,
     "metadata": {},
     "output_type": "execute_result"
    }
   ],
   "source": [
    "word = model.wv[images_df.iloc[0]['tokenized_prompt']][2]\n",
    "word"
   ]
  },
  {
   "cell_type": "code",
   "execution_count": 14,
   "metadata": {},
   "outputs": [
    {
     "data": {
      "text/plain": [
       "[('portrait', 1.0000001192092896),\n",
       " ('young', 0.4828406870365143),\n",
       " ('female', 0.4440945088863373),\n",
       " ('demon', 0.41361796855926514),\n",
       " ('portait', 0.4041849970817566),\n",
       " ('rivia', 0.3979431986808777),\n",
       " ('gorgeous', 0.3954363763332367),\n",
       " ('princess', 0.3941110670566559),\n",
       " ('siren', 0.3887902498245239),\n",
       " ('korean', 0.38710951805114746)]"
      ]
     },
     "execution_count": 14,
     "metadata": {},
     "output_type": "execute_result"
    }
   ],
   "source": [
    "model.wv.similar_by_vector(word)"
   ]
  },
  {
   "attachments": {},
   "cell_type": "markdown",
   "metadata": {},
   "source": [
    "Now, we want to apply this to every prompt in the dataset, so we create a new column for that:"
   ]
  },
  {
   "cell_type": "code",
   "execution_count": 35,
   "metadata": {},
   "outputs": [],
   "source": [
    "def get_vectorized_prompt(tokens):\n",
    "    return np.array([model.wv[token] for token in tokens])\n",
    "\n",
    "\n",
    "images_df['vectorized_prompt'] = images_df['tokenized_prompt'].apply(get_vectorized_prompt)"
   ]
  },
  {
   "cell_type": "code",
   "execution_count": 36,
   "metadata": {},
   "outputs": [],
   "source": [
    "def get_vectorized_prompt_2m(tokens):\n",
    "    return np.array([two_m_model.wv[token] for token in tokens])\n",
    "\n",
    "\n",
    "images_df['2m_vectorized_prompt'] = images_df['tokenized_prompt'].apply(get_vectorized_prompt_2m)"
   ]
  },
  {
   "attachments": {},
   "cell_type": "markdown",
   "metadata": {},
   "source": [
    "This is what the resulting dataframe looks like:"
   ]
  },
  {
   "cell_type": "code",
   "execution_count": 37,
   "metadata": {},
   "outputs": [
    {
     "data": {
      "text/html": [
       "<div>\n",
       "<style scoped>\n",
       "    .dataframe tbody tr th:only-of-type {\n",
       "        vertical-align: middle;\n",
       "    }\n",
       "\n",
       "    .dataframe tbody tr th {\n",
       "        vertical-align: top;\n",
       "    }\n",
       "\n",
       "    .dataframe thead th {\n",
       "        text-align: right;\n",
       "    }\n",
       "</style>\n",
       "<table border=\"1\" class=\"dataframe\">\n",
       "  <thead>\n",
       "    <tr style=\"text-align: right;\">\n",
       "      <th></th>\n",
       "      <th>image</th>\n",
       "      <th>prompt</th>\n",
       "      <th>image_array</th>\n",
       "      <th>normalized_array</th>\n",
       "      <th>tokenized_prompt</th>\n",
       "      <th>vectorized_prompt</th>\n",
       "      <th>2m_vectorized_prompt</th>\n",
       "    </tr>\n",
       "  </thead>\n",
       "  <tbody>\n",
       "    <tr>\n",
       "      <th>0</th>\n",
       "      <td>&lt;PIL.Image.Image image mode=RGB size=128x128 a...</td>\n",
       "      <td>a renaissance portrait of dwayne johnson  art ...</td>\n",
       "      <td>[[[13.0, 11.0, 10.0], [22.0, 20.0, 18.0], [23....</td>\n",
       "      <td>[[[0.050980393, 0.044, 0.041493777], [0.086274...</td>\n",
       "      <td>[a, renaissance, portrait, of, dwayne, johnson...</td>\n",
       "      <td>[[1.327685, -0.37005645, 0.43590719, -1.324833...</td>\n",
       "      <td>[[-0.58317715, 1.1634145, 0.90053946, -0.22644...</td>\n",
       "    </tr>\n",
       "    <tr>\n",
       "      <th>1</th>\n",
       "      <td>&lt;PIL.Image.Image image mode=RGB size=128x128 a...</td>\n",
       "      <td>portrait of a dancing eagle woman  beautiful b...</td>\n",
       "      <td>[[[169.0, 155.0, 133.0], [169.0, 155.0, 131.0]...</td>\n",
       "      <td>[[[0.6875, 0.7323232, 0.71511626], [0.6875, 0....</td>\n",
       "      <td>[portrait, of, a, dancing, eagle, woman, beaut...</td>\n",
       "      <td>[[-0.6610553, 2.0926023, -1.9930851, 0.9011854...</td>\n",
       "      <td>[[-1.1437063, 1.7737198, -2.8723955, 0.8827879...</td>\n",
       "    </tr>\n",
       "    <tr>\n",
       "      <th>2</th>\n",
       "      <td>&lt;PIL.Image.Image image mode=RGB size=128x128 a...</td>\n",
       "      <td>epic 3 d  become legend shiji  gpu mecha contr...</td>\n",
       "      <td>[[[59.0, 75.0, 98.0], [59.0, 76.0, 99.0], [59....</td>\n",
       "      <td>[[[0.23137255, 0.29411766, 0.374502], [0.23137...</td>\n",
       "      <td>[epic, 3, d, become, legend, shiji, gpu, mecha...</td>\n",
       "      <td>[[0.14250197, -2.1592658, 0.4262475, -0.807887...</td>\n",
       "      <td>[[-0.4053494, 2.3315654, -0.9218749, 4.496642,...</td>\n",
       "    </tr>\n",
       "    <tr>\n",
       "      <th>3</th>\n",
       "      <td>&lt;PIL.Image.Image image mode=RGB size=128x128 a...</td>\n",
       "      <td>an airbrush painting of cyber war machine scen...</td>\n",
       "      <td>[[[115.0, 156.0, 184.0], [120.0, 159.0, 183.0]...</td>\n",
       "      <td>[[[0.44541484, 0.6502242, 0.84236455], [0.4672...</td>\n",
       "      <td>[an, airbrush, painting, of, cyber, war, machi...</td>\n",
       "      <td>[[4.240111, -2.4562259, -1.1775157, -1.3560923...</td>\n",
       "      <td>[[1.1083556, -2.7111382, -0.6331274, 1.8477451...</td>\n",
       "    </tr>\n",
       "    <tr>\n",
       "      <th>4</th>\n",
       "      <td>&lt;PIL.Image.Image image mode=RGB size=128x128 a...</td>\n",
       "      <td>concept art of a silent hill monster  painted ...</td>\n",
       "      <td>[[[101.0, 105.0, 89.0], [100.0, 105.0, 90.0], ...</td>\n",
       "      <td>[[[0.36082473, 0.33333334, 0.2804878], [0.3556...</td>\n",
       "      <td>[concept, art, of, a, silent, hill, monster, p...</td>\n",
       "      <td>[[3.2343996, 1.4021288, -2.152833, 0.5782454, ...</td>\n",
       "      <td>[[-1.8549491, 4.8363824, 1.5333705, -0.2730061...</td>\n",
       "    </tr>\n",
       "  </tbody>\n",
       "</table>\n",
       "</div>"
      ],
      "text/plain": [
       "                                               image  \\\n",
       "0  <PIL.Image.Image image mode=RGB size=128x128 a...   \n",
       "1  <PIL.Image.Image image mode=RGB size=128x128 a...   \n",
       "2  <PIL.Image.Image image mode=RGB size=128x128 a...   \n",
       "3  <PIL.Image.Image image mode=RGB size=128x128 a...   \n",
       "4  <PIL.Image.Image image mode=RGB size=128x128 a...   \n",
       "\n",
       "                                              prompt  \\\n",
       "0  a renaissance portrait of dwayne johnson  art ...   \n",
       "1  portrait of a dancing eagle woman  beautiful b...   \n",
       "2  epic 3 d  become legend shiji  gpu mecha contr...   \n",
       "3  an airbrush painting of cyber war machine scen...   \n",
       "4  concept art of a silent hill monster  painted ...   \n",
       "\n",
       "                                         image_array  \\\n",
       "0  [[[13.0, 11.0, 10.0], [22.0, 20.0, 18.0], [23....   \n",
       "1  [[[169.0, 155.0, 133.0], [169.0, 155.0, 131.0]...   \n",
       "2  [[[59.0, 75.0, 98.0], [59.0, 76.0, 99.0], [59....   \n",
       "3  [[[115.0, 156.0, 184.0], [120.0, 159.0, 183.0]...   \n",
       "4  [[[101.0, 105.0, 89.0], [100.0, 105.0, 90.0], ...   \n",
       "\n",
       "                                    normalized_array  \\\n",
       "0  [[[0.050980393, 0.044, 0.041493777], [0.086274...   \n",
       "1  [[[0.6875, 0.7323232, 0.71511626], [0.6875, 0....   \n",
       "2  [[[0.23137255, 0.29411766, 0.374502], [0.23137...   \n",
       "3  [[[0.44541484, 0.6502242, 0.84236455], [0.4672...   \n",
       "4  [[[0.36082473, 0.33333334, 0.2804878], [0.3556...   \n",
       "\n",
       "                                    tokenized_prompt  \\\n",
       "0  [a, renaissance, portrait, of, dwayne, johnson...   \n",
       "1  [portrait, of, a, dancing, eagle, woman, beaut...   \n",
       "2  [epic, 3, d, become, legend, shiji, gpu, mecha...   \n",
       "3  [an, airbrush, painting, of, cyber, war, machi...   \n",
       "4  [concept, art, of, a, silent, hill, monster, p...   \n",
       "\n",
       "                                   vectorized_prompt  \\\n",
       "0  [[1.327685, -0.37005645, 0.43590719, -1.324833...   \n",
       "1  [[-0.6610553, 2.0926023, -1.9930851, 0.9011854...   \n",
       "2  [[0.14250197, -2.1592658, 0.4262475, -0.807887...   \n",
       "3  [[4.240111, -2.4562259, -1.1775157, -1.3560923...   \n",
       "4  [[3.2343996, 1.4021288, -2.152833, 0.5782454, ...   \n",
       "\n",
       "                                2m_vectorized_prompt  \n",
       "0  [[-0.58317715, 1.1634145, 0.90053946, -0.22644...  \n",
       "1  [[-1.1437063, 1.7737198, -2.8723955, 0.8827879...  \n",
       "2  [[-0.4053494, 2.3315654, -0.9218749, 4.496642,...  \n",
       "3  [[1.1083556, -2.7111382, -0.6331274, 1.8477451...  \n",
       "4  [[-1.8549491, 4.8363824, 1.5333705, -0.2730061...  "
      ]
     },
     "execution_count": 37,
     "metadata": {},
     "output_type": "execute_result"
    }
   ],
   "source": [
    "images_df.head()"
   ]
  },
  {
   "attachments": {},
   "cell_type": "markdown",
   "metadata": {},
   "source": [
    "We want to export this dataset, but only the images, prompts, normalized arrays, and vectorized prompts, without the columns we created as 'inbetween' steps, so we create a new one with only the columns we want:"
   ]
  },
  {
   "cell_type": "code",
   "execution_count": 38,
   "metadata": {},
   "outputs": [],
   "source": [
    "new_df = images_df[['image', 'prompt', 'normalized_array', 'vectorized_prompt', '2m_vectorized_prompt']]"
   ]
  },
  {
   "cell_type": "code",
   "execution_count": 39,
   "metadata": {},
   "outputs": [
    {
     "data": {
      "text/html": [
       "<div>\n",
       "<style scoped>\n",
       "    .dataframe tbody tr th:only-of-type {\n",
       "        vertical-align: middle;\n",
       "    }\n",
       "\n",
       "    .dataframe tbody tr th {\n",
       "        vertical-align: top;\n",
       "    }\n",
       "\n",
       "    .dataframe thead th {\n",
       "        text-align: right;\n",
       "    }\n",
       "</style>\n",
       "<table border=\"1\" class=\"dataframe\">\n",
       "  <thead>\n",
       "    <tr style=\"text-align: right;\">\n",
       "      <th></th>\n",
       "      <th>image</th>\n",
       "      <th>prompt</th>\n",
       "      <th>normalized_array</th>\n",
       "      <th>vectorized_prompt</th>\n",
       "      <th>2m_vectorized_prompt</th>\n",
       "    </tr>\n",
       "  </thead>\n",
       "  <tbody>\n",
       "    <tr>\n",
       "      <th>0</th>\n",
       "      <td>&lt;PIL.Image.Image image mode=RGB size=128x128 a...</td>\n",
       "      <td>a renaissance portrait of dwayne johnson  art ...</td>\n",
       "      <td>[[[0.050980393, 0.044, 0.041493777], [0.086274...</td>\n",
       "      <td>[[1.327685, -0.37005645, 0.43590719, -1.324833...</td>\n",
       "      <td>[[-0.58317715, 1.1634145, 0.90053946, -0.22644...</td>\n",
       "    </tr>\n",
       "    <tr>\n",
       "      <th>1</th>\n",
       "      <td>&lt;PIL.Image.Image image mode=RGB size=128x128 a...</td>\n",
       "      <td>portrait of a dancing eagle woman  beautiful b...</td>\n",
       "      <td>[[[0.6875, 0.7323232, 0.71511626], [0.6875, 0....</td>\n",
       "      <td>[[-0.6610553, 2.0926023, -1.9930851, 0.9011854...</td>\n",
       "      <td>[[-1.1437063, 1.7737198, -2.8723955, 0.8827879...</td>\n",
       "    </tr>\n",
       "    <tr>\n",
       "      <th>2</th>\n",
       "      <td>&lt;PIL.Image.Image image mode=RGB size=128x128 a...</td>\n",
       "      <td>epic 3 d  become legend shiji  gpu mecha contr...</td>\n",
       "      <td>[[[0.23137255, 0.29411766, 0.374502], [0.23137...</td>\n",
       "      <td>[[0.14250197, -2.1592658, 0.4262475, -0.807887...</td>\n",
       "      <td>[[-0.4053494, 2.3315654, -0.9218749, 4.496642,...</td>\n",
       "    </tr>\n",
       "    <tr>\n",
       "      <th>3</th>\n",
       "      <td>&lt;PIL.Image.Image image mode=RGB size=128x128 a...</td>\n",
       "      <td>an airbrush painting of cyber war machine scen...</td>\n",
       "      <td>[[[0.44541484, 0.6502242, 0.84236455], [0.4672...</td>\n",
       "      <td>[[4.240111, -2.4562259, -1.1775157, -1.3560923...</td>\n",
       "      <td>[[1.1083556, -2.7111382, -0.6331274, 1.8477451...</td>\n",
       "    </tr>\n",
       "    <tr>\n",
       "      <th>4</th>\n",
       "      <td>&lt;PIL.Image.Image image mode=RGB size=128x128 a...</td>\n",
       "      <td>concept art of a silent hill monster  painted ...</td>\n",
       "      <td>[[[0.36082473, 0.33333334, 0.2804878], [0.3556...</td>\n",
       "      <td>[[3.2343996, 1.4021288, -2.152833, 0.5782454, ...</td>\n",
       "      <td>[[-1.8549491, 4.8363824, 1.5333705, -0.2730061...</td>\n",
       "    </tr>\n",
       "  </tbody>\n",
       "</table>\n",
       "</div>"
      ],
      "text/plain": [
       "                                               image  \\\n",
       "0  <PIL.Image.Image image mode=RGB size=128x128 a...   \n",
       "1  <PIL.Image.Image image mode=RGB size=128x128 a...   \n",
       "2  <PIL.Image.Image image mode=RGB size=128x128 a...   \n",
       "3  <PIL.Image.Image image mode=RGB size=128x128 a...   \n",
       "4  <PIL.Image.Image image mode=RGB size=128x128 a...   \n",
       "\n",
       "                                              prompt  \\\n",
       "0  a renaissance portrait of dwayne johnson  art ...   \n",
       "1  portrait of a dancing eagle woman  beautiful b...   \n",
       "2  epic 3 d  become legend shiji  gpu mecha contr...   \n",
       "3  an airbrush painting of cyber war machine scen...   \n",
       "4  concept art of a silent hill monster  painted ...   \n",
       "\n",
       "                                    normalized_array  \\\n",
       "0  [[[0.050980393, 0.044, 0.041493777], [0.086274...   \n",
       "1  [[[0.6875, 0.7323232, 0.71511626], [0.6875, 0....   \n",
       "2  [[[0.23137255, 0.29411766, 0.374502], [0.23137...   \n",
       "3  [[[0.44541484, 0.6502242, 0.84236455], [0.4672...   \n",
       "4  [[[0.36082473, 0.33333334, 0.2804878], [0.3556...   \n",
       "\n",
       "                                   vectorized_prompt  \\\n",
       "0  [[1.327685, -0.37005645, 0.43590719, -1.324833...   \n",
       "1  [[-0.6610553, 2.0926023, -1.9930851, 0.9011854...   \n",
       "2  [[0.14250197, -2.1592658, 0.4262475, -0.807887...   \n",
       "3  [[4.240111, -2.4562259, -1.1775157, -1.3560923...   \n",
       "4  [[3.2343996, 1.4021288, -2.152833, 0.5782454, ...   \n",
       "\n",
       "                                2m_vectorized_prompt  \n",
       "0  [[-0.58317715, 1.1634145, 0.90053946, -0.22644...  \n",
       "1  [[-1.1437063, 1.7737198, -2.8723955, 0.8827879...  \n",
       "2  [[-0.4053494, 2.3315654, -0.9218749, 4.496642,...  \n",
       "3  [[1.1083556, -2.7111382, -0.6331274, 1.8477451...  \n",
       "4  [[-1.8549491, 4.8363824, 1.5333705, -0.2730061...  "
      ]
     },
     "execution_count": 39,
     "metadata": {},
     "output_type": "execute_result"
    }
   ],
   "source": [
    "new_df.head()"
   ]
  },
  {
   "attachments": {},
   "cell_type": "markdown",
   "metadata": {},
   "source": [
    "Now export the dataframe that contains values that are ready to be trained!"
   ]
  },
  {
   "cell_type": "code",
   "execution_count": 41,
   "metadata": {},
   "outputs": [],
   "source": [
    "new_df.to_pickle(\"ready_to_train.pkl\")"
   ]
  }
 ],
 "metadata": {
  "kernelspec": {
   "display_name": "Python 3.9.7 64-bit",
   "language": "python",
   "name": "python3"
  },
  "language_info": {
   "codemirror_mode": {
    "name": "ipython",
    "version": 3
   },
   "file_extension": ".py",
   "mimetype": "text/x-python",
   "name": "python",
   "nbconvert_exporter": "python",
   "pygments_lexer": "ipython3",
   "version": "3.9.13"
  },
  "orig_nbformat": 4,
  "vscode": {
   "interpreter": {
    "hash": "ee1f1b5997a116fbbae52f05172f2bd7fcc07250c4ae572a59d4ba862ea0d949"
   }
  }
 },
 "nbformat": 4,
 "nbformat_minor": 2
}
